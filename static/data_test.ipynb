{
 "cells": [
  {
   "cell_type": "code",
   "execution_count": 29,
   "metadata": {},
   "outputs": [],
   "source": [
    "# Import Matplot lib\n",
    "import matplotlib\n",
    "from matplotlib import style\n",
    "style.use('seaborn')\n",
    "import matplotlib.pyplot as plt"
   ]
  },
  {
   "cell_type": "code",
   "execution_count": 30,
   "metadata": {},
   "outputs": [],
   "source": [
    "# Import SQLAlchemy `automap` and other dependencies here\n",
    "import sqlalchemy\n",
    "from sqlalchemy.ext.automap import automap_base\n",
    "from sqlalchemy.orm import Session\n",
    "from sqlalchemy import create_engine, inspect, func\n",
    "\n",
    "database_path = \"../spotify.sqlite\""
   ]
  },
  {
   "cell_type": "code",
   "execution_count": 31,
   "metadata": {},
   "outputs": [],
   "source": [
    "# Import Pandas\n",
    "import pandas as pd"
   ]
  },
  {
   "cell_type": "code",
   "execution_count": 32,
   "metadata": {},
   "outputs": [],
   "source": [
    "#Create an engine for the `spotify.sqlite` database\n",
    "engine = create_engine(f\"sqlite:///{database_path}\", echo=False)\n",
    "conn = engine.connect()"
   ]
  },
  {
   "cell_type": "code",
   "execution_count": 33,
   "metadata": {},
   "outputs": [
    {
     "output_type": "execute_result",
     "data": {
      "text/plain": [
       "                             id  followers                 genres  \\\n",
       "1104344  6rJIG42vcWAf1UBdRFlQxB     3345.0                     []   \n",
       "1104345  1ljurfXKPlGncNdW3J8zJ8     2123.0  ['deep acoustic pop']   \n",
       "1104346  2vnT9YhKIvjVo9LnVjWmr2       26.0                     []   \n",
       "1104347  3ID0E5XCvnJIYZEq043ZoB      406.0                     []   \n",
       "1104348  5m0Y4WSYyai2BU752lCASy      146.0                     []   \n",
       "\n",
       "                         name  popularity  \n",
       "1104344            Cody Longo           8  \n",
       "1104345       Right the Stars          18  \n",
       "1104346        Jesse Giddings           0  \n",
       "1104347  The Boy Band Project           0  \n",
       "1104348            10 Reasons           1  "
      ],
      "text/html": "<div>\n<style scoped>\n    .dataframe tbody tr th:only-of-type {\n        vertical-align: middle;\n    }\n\n    .dataframe tbody tr th {\n        vertical-align: top;\n    }\n\n    .dataframe thead th {\n        text-align: right;\n    }\n</style>\n<table border=\"1\" class=\"dataframe\">\n  <thead>\n    <tr style=\"text-align: right;\">\n      <th></th>\n      <th>id</th>\n      <th>followers</th>\n      <th>genres</th>\n      <th>name</th>\n      <th>popularity</th>\n    </tr>\n  </thead>\n  <tbody>\n    <tr>\n      <th>1104344</th>\n      <td>6rJIG42vcWAf1UBdRFlQxB</td>\n      <td>3345.0</td>\n      <td>[]</td>\n      <td>Cody Longo</td>\n      <td>8</td>\n    </tr>\n    <tr>\n      <th>1104345</th>\n      <td>1ljurfXKPlGncNdW3J8zJ8</td>\n      <td>2123.0</td>\n      <td>['deep acoustic pop']</td>\n      <td>Right the Stars</td>\n      <td>18</td>\n    </tr>\n    <tr>\n      <th>1104346</th>\n      <td>2vnT9YhKIvjVo9LnVjWmr2</td>\n      <td>26.0</td>\n      <td>[]</td>\n      <td>Jesse Giddings</td>\n      <td>0</td>\n    </tr>\n    <tr>\n      <th>1104347</th>\n      <td>3ID0E5XCvnJIYZEq043ZoB</td>\n      <td>406.0</td>\n      <td>[]</td>\n      <td>The Boy Band Project</td>\n      <td>0</td>\n    </tr>\n    <tr>\n      <th>1104348</th>\n      <td>5m0Y4WSYyai2BU752lCASy</td>\n      <td>146.0</td>\n      <td>[]</td>\n      <td>10 Reasons</td>\n      <td>1</td>\n    </tr>\n  </tbody>\n</table>\n</div>"
     },
     "metadata": {},
     "execution_count": 33
    }
   ],
   "source": [
    "#import csv file and make it into a dataframe\n",
    "artists = '../artists.csv'\n",
    "artists_df = pd.read_csv(artists)\n",
    "artists_df.tail()"
   ]
  },
  {
   "cell_type": "code",
   "execution_count": 34,
   "metadata": {},
   "outputs": [
    {
     "output_type": "execute_result",
     "data": {
      "text/plain": [
       "                            id   followers  \\\n",
       "144138  6eUKZXaKkcviH0Ku9w2n3V  78900234.0   \n",
       "144485  66CXWjxzNUsdJxJ2JdwvnR  61301006.0   \n",
       "313676  3TVXtAsR1Inumwj472S9r4  54416812.0   \n",
       "144481  1uNFoZAHBGtllmzznpCI3s  44606973.0   \n",
       "144488  7dGJo4pcD2V6oG8kP0tJRR  43747833.0   \n",
       "\n",
       "                                                   genres           name  \\\n",
       "144138                                  ['pop', 'uk pop']     Ed Sheeran   \n",
       "144485                           ['pop', 'post-teen pop']  Ariana Grande   \n",
       "313676  ['canadian hip hop', 'canadian pop', 'hip hop'...          Drake   \n",
       "144481           ['canadian pop', 'pop', 'post-teen pop']  Justin Bieber   \n",
       "144488              ['detroit hip hop', 'hip hop', 'rap']         Eminem   \n",
       "\n",
       "        popularity  \n",
       "144138          92  \n",
       "144485          95  \n",
       "313676          98  \n",
       "144481         100  \n",
       "144488          94  "
      ],
      "text/html": "<div>\n<style scoped>\n    .dataframe tbody tr th:only-of-type {\n        vertical-align: middle;\n    }\n\n    .dataframe tbody tr th {\n        vertical-align: top;\n    }\n\n    .dataframe thead th {\n        text-align: right;\n    }\n</style>\n<table border=\"1\" class=\"dataframe\">\n  <thead>\n    <tr style=\"text-align: right;\">\n      <th></th>\n      <th>id</th>\n      <th>followers</th>\n      <th>genres</th>\n      <th>name</th>\n      <th>popularity</th>\n    </tr>\n  </thead>\n  <tbody>\n    <tr>\n      <th>144138</th>\n      <td>6eUKZXaKkcviH0Ku9w2n3V</td>\n      <td>78900234.0</td>\n      <td>['pop', 'uk pop']</td>\n      <td>Ed Sheeran</td>\n      <td>92</td>\n    </tr>\n    <tr>\n      <th>144485</th>\n      <td>66CXWjxzNUsdJxJ2JdwvnR</td>\n      <td>61301006.0</td>\n      <td>['pop', 'post-teen pop']</td>\n      <td>Ariana Grande</td>\n      <td>95</td>\n    </tr>\n    <tr>\n      <th>313676</th>\n      <td>3TVXtAsR1Inumwj472S9r4</td>\n      <td>54416812.0</td>\n      <td>['canadian hip hop', 'canadian pop', 'hip hop'...</td>\n      <td>Drake</td>\n      <td>98</td>\n    </tr>\n    <tr>\n      <th>144481</th>\n      <td>1uNFoZAHBGtllmzznpCI3s</td>\n      <td>44606973.0</td>\n      <td>['canadian pop', 'pop', 'post-teen pop']</td>\n      <td>Justin Bieber</td>\n      <td>100</td>\n    </tr>\n    <tr>\n      <th>144488</th>\n      <td>7dGJo4pcD2V6oG8kP0tJRR</td>\n      <td>43747833.0</td>\n      <td>['detroit hip hop', 'hip hop', 'rap']</td>\n      <td>Eminem</td>\n      <td>94</td>\n    </tr>\n  </tbody>\n</table>\n</div>"
     },
     "metadata": {},
     "execution_count": 34
    }
   ],
   "source": [
    "# reorganize data from most followers to least\r\n",
    "artists_df.sort_values(by=['followers'],inplace = True, ascending = False)\r\n",
    "artists_df.head()"
   ]
  },
  {
   "cell_type": "code",
   "execution_count": 35,
   "metadata": {},
   "outputs": [
    {
     "output_type": "execute_result",
     "data": {
      "text/plain": [
       "                 name                                             genres  \\\n",
       "144138     Ed Sheeran                                  ['pop', 'uk pop']   \n",
       "144485  Ariana Grande                           ['pop', 'post-teen pop']   \n",
       "313676          Drake  ['canadian hip hop', 'canadian pop', 'hip hop'...   \n",
       "144481  Justin Bieber           ['canadian pop', 'pop', 'post-teen pop']   \n",
       "144488         Eminem              ['detroit hip hop', 'hip hop', 'rap']   \n",
       "\n",
       "         followers  popularity  \n",
       "144138  78900234.0          92  \n",
       "144485  61301006.0          95  \n",
       "313676  54416812.0          98  \n",
       "144481  44606973.0         100  \n",
       "144488  43747833.0          94  "
      ],
      "text/html": "<div>\n<style scoped>\n    .dataframe tbody tr th:only-of-type {\n        vertical-align: middle;\n    }\n\n    .dataframe tbody tr th {\n        vertical-align: top;\n    }\n\n    .dataframe thead th {\n        text-align: right;\n    }\n</style>\n<table border=\"1\" class=\"dataframe\">\n  <thead>\n    <tr style=\"text-align: right;\">\n      <th></th>\n      <th>name</th>\n      <th>genres</th>\n      <th>followers</th>\n      <th>popularity</th>\n    </tr>\n  </thead>\n  <tbody>\n    <tr>\n      <th>144138</th>\n      <td>Ed Sheeran</td>\n      <td>['pop', 'uk pop']</td>\n      <td>78900234.0</td>\n      <td>92</td>\n    </tr>\n    <tr>\n      <th>144485</th>\n      <td>Ariana Grande</td>\n      <td>['pop', 'post-teen pop']</td>\n      <td>61301006.0</td>\n      <td>95</td>\n    </tr>\n    <tr>\n      <th>313676</th>\n      <td>Drake</td>\n      <td>['canadian hip hop', 'canadian pop', 'hip hop'...</td>\n      <td>54416812.0</td>\n      <td>98</td>\n    </tr>\n    <tr>\n      <th>144481</th>\n      <td>Justin Bieber</td>\n      <td>['canadian pop', 'pop', 'post-teen pop']</td>\n      <td>44606973.0</td>\n      <td>100</td>\n    </tr>\n    <tr>\n      <th>144488</th>\n      <td>Eminem</td>\n      <td>['detroit hip hop', 'hip hop', 'rap']</td>\n      <td>43747833.0</td>\n      <td>94</td>\n    </tr>\n  </tbody>\n</table>\n</div>"
     },
     "metadata": {},
     "execution_count": 35
    }
   ],
   "source": [
    "# take out columns not needed\r\n",
    "artists_cols = ['name','genres','followers','popularity']\r\n",
    "artists_v2 = artists_df[artists_cols].copy()\r\n",
    "\r\n",
    "artists_v2.head()"
   ]
  },
  {
   "cell_type": "code",
   "execution_count": 36,
   "metadata": {},
   "outputs": [
    {
     "output_type": "execute_result",
     "data": {
      "text/plain": [
       "                 Artist                                              Genre  \\\n",
       "144138       Ed Sheeran                                  ['pop', 'uk pop']   \n",
       "144485    Ariana Grande                           ['pop', 'post-teen pop']   \n",
       "313676            Drake  ['canadian hip hop', 'canadian pop', 'hip hop'...   \n",
       "144481    Justin Bieber           ['canadian pop', 'pop', 'post-teen pop']   \n",
       "144488           Eminem              ['detroit hip hop', 'hip hop', 'rap']   \n",
       "313508          Rihanna  ['barbadian pop', 'dance pop', 'pop', 'post-te...   \n",
       "126658    Billie Eilish                              ['electropop', 'pop']   \n",
       "126338     Taylor Swift                           ['pop', 'post-teen pop']   \n",
       "126339  Imagine Dragons                            ['modern rock', 'rock']   \n",
       "144496            Queen              ['classic rock', 'glam rock', 'rock']   \n",
       "\n",
       "         Followers  Popularity Lvl  \n",
       "144138  78900234.0              92  \n",
       "144485  61301006.0              95  \n",
       "313676  54416812.0              98  \n",
       "144481  44606973.0             100  \n",
       "144488  43747833.0              94  \n",
       "313508  42244011.0              92  \n",
       "126658  41792604.0              92  \n",
       "126338  38869193.0              98  \n",
       "126339  33665795.0              89  \n",
       "144496  33483326.0              89  "
      ],
      "text/html": "<div>\n<style scoped>\n    .dataframe tbody tr th:only-of-type {\n        vertical-align: middle;\n    }\n\n    .dataframe tbody tr th {\n        vertical-align: top;\n    }\n\n    .dataframe thead th {\n        text-align: right;\n    }\n</style>\n<table border=\"1\" class=\"dataframe\">\n  <thead>\n    <tr style=\"text-align: right;\">\n      <th></th>\n      <th>Artist</th>\n      <th>Genre</th>\n      <th>Followers</th>\n      <th>Popularity Lvl</th>\n    </tr>\n  </thead>\n  <tbody>\n    <tr>\n      <th>144138</th>\n      <td>Ed Sheeran</td>\n      <td>['pop', 'uk pop']</td>\n      <td>78900234.0</td>\n      <td>92</td>\n    </tr>\n    <tr>\n      <th>144485</th>\n      <td>Ariana Grande</td>\n      <td>['pop', 'post-teen pop']</td>\n      <td>61301006.0</td>\n      <td>95</td>\n    </tr>\n    <tr>\n      <th>313676</th>\n      <td>Drake</td>\n      <td>['canadian hip hop', 'canadian pop', 'hip hop'...</td>\n      <td>54416812.0</td>\n      <td>98</td>\n    </tr>\n    <tr>\n      <th>144481</th>\n      <td>Justin Bieber</td>\n      <td>['canadian pop', 'pop', 'post-teen pop']</td>\n      <td>44606973.0</td>\n      <td>100</td>\n    </tr>\n    <tr>\n      <th>144488</th>\n      <td>Eminem</td>\n      <td>['detroit hip hop', 'hip hop', 'rap']</td>\n      <td>43747833.0</td>\n      <td>94</td>\n    </tr>\n    <tr>\n      <th>313508</th>\n      <td>Rihanna</td>\n      <td>['barbadian pop', 'dance pop', 'pop', 'post-te...</td>\n      <td>42244011.0</td>\n      <td>92</td>\n    </tr>\n    <tr>\n      <th>126658</th>\n      <td>Billie Eilish</td>\n      <td>['electropop', 'pop']</td>\n      <td>41792604.0</td>\n      <td>92</td>\n    </tr>\n    <tr>\n      <th>126338</th>\n      <td>Taylor Swift</td>\n      <td>['pop', 'post-teen pop']</td>\n      <td>38869193.0</td>\n      <td>98</td>\n    </tr>\n    <tr>\n      <th>126339</th>\n      <td>Imagine Dragons</td>\n      <td>['modern rock', 'rock']</td>\n      <td>33665795.0</td>\n      <td>89</td>\n    </tr>\n    <tr>\n      <th>144496</th>\n      <td>Queen</td>\n      <td>['classic rock', 'glam rock', 'rock']</td>\n      <td>33483326.0</td>\n      <td>89</td>\n    </tr>\n  </tbody>\n</table>\n</div>"
     },
     "metadata": {},
     "execution_count": 36
    }
   ],
   "source": [
    "#rename columns\r\n",
    "artists_renamed = artists_v2.rename(columns ={\r\n",
    "\r\n",
    "'name': 'Artist',\r\n",
    "'genres': 'Genre',\r\n",
    "'followers': 'Followers',\r\n",
    "'popularity':'Popularity Lvl'})\r\n",
    "\r\n",
    "artists_renamed.head(10)"
   ]
  },
  {
   "cell_type": "code",
   "execution_count": 37,
   "metadata": {},
   "outputs": [
    {
     "output_type": "execute_result",
     "data": {
      "text/plain": [
       "    index         Artist                                              Genre  \\\n",
       "0  144138     Ed Sheeran                                  ['pop', 'uk pop']   \n",
       "1  144485  Ariana Grande                           ['pop', 'post-teen pop']   \n",
       "2  313676          Drake  ['canadian hip hop', 'canadian pop', 'hip hop'...   \n",
       "3  144481  Justin Bieber           ['canadian pop', 'pop', 'post-teen pop']   \n",
       "4  144488         Eminem              ['detroit hip hop', 'hip hop', 'rap']   \n",
       "\n",
       "    Followers  Popularity Lvl  \n",
       "0  78900234.0              92  \n",
       "1  61301006.0              95  \n",
       "2  54416812.0              98  \n",
       "3  44606973.0             100  \n",
       "4  43747833.0              94  "
      ],
      "text/html": "<div>\n<style scoped>\n    .dataframe tbody tr th:only-of-type {\n        vertical-align: middle;\n    }\n\n    .dataframe tbody tr th {\n        vertical-align: top;\n    }\n\n    .dataframe thead th {\n        text-align: right;\n    }\n</style>\n<table border=\"1\" class=\"dataframe\">\n  <thead>\n    <tr style=\"text-align: right;\">\n      <th></th>\n      <th>index</th>\n      <th>Artist</th>\n      <th>Genre</th>\n      <th>Followers</th>\n      <th>Popularity Lvl</th>\n    </tr>\n  </thead>\n  <tbody>\n    <tr>\n      <th>0</th>\n      <td>144138</td>\n      <td>Ed Sheeran</td>\n      <td>['pop', 'uk pop']</td>\n      <td>78900234.0</td>\n      <td>92</td>\n    </tr>\n    <tr>\n      <th>1</th>\n      <td>144485</td>\n      <td>Ariana Grande</td>\n      <td>['pop', 'post-teen pop']</td>\n      <td>61301006.0</td>\n      <td>95</td>\n    </tr>\n    <tr>\n      <th>2</th>\n      <td>313676</td>\n      <td>Drake</td>\n      <td>['canadian hip hop', 'canadian pop', 'hip hop'...</td>\n      <td>54416812.0</td>\n      <td>98</td>\n    </tr>\n    <tr>\n      <th>3</th>\n      <td>144481</td>\n      <td>Justin Bieber</td>\n      <td>['canadian pop', 'pop', 'post-teen pop']</td>\n      <td>44606973.0</td>\n      <td>100</td>\n    </tr>\n    <tr>\n      <th>4</th>\n      <td>144488</td>\n      <td>Eminem</td>\n      <td>['detroit hip hop', 'hip hop', 'rap']</td>\n      <td>43747833.0</td>\n      <td>94</td>\n    </tr>\n  </tbody>\n</table>\n</div>"
     },
     "metadata": {},
     "execution_count": 37
    }
   ],
   "source": [
    "artists_reset = artists_renamed.reset_index()\r\n",
    "artists_reset.head()"
   ]
  },
  {
   "cell_type": "code",
   "execution_count": 38,
   "metadata": {},
   "outputs": [
    {
     "output_type": "execute_result",
     "data": {
      "text/plain": [
       "       id           Artist                                              Genre  \\\n",
       "0  144138       Ed Sheeran                                  ['pop', 'uk pop']   \n",
       "1  144485    Ariana Grande                           ['pop', 'post-teen pop']   \n",
       "2  313676            Drake  ['canadian hip hop', 'canadian pop', 'hip hop'...   \n",
       "3  144481    Justin Bieber           ['canadian pop', 'pop', 'post-teen pop']   \n",
       "4  144488           Eminem              ['detroit hip hop', 'hip hop', 'rap']   \n",
       "5  313508          Rihanna  ['barbadian pop', 'dance pop', 'pop', 'post-te...   \n",
       "6  126658    Billie Eilish                              ['electropop', 'pop']   \n",
       "7  126338     Taylor Swift                           ['pop', 'post-teen pop']   \n",
       "8  126339  Imagine Dragons                            ['modern rock', 'rock']   \n",
       "9  144496            Queen              ['classic rock', 'glam rock', 'rock']   \n",
       "\n",
       "    Followers  Popularity Lvl  \n",
       "0  78900234.0              92  \n",
       "1  61301006.0              95  \n",
       "2  54416812.0              98  \n",
       "3  44606973.0             100  \n",
       "4  43747833.0              94  \n",
       "5  42244011.0              92  \n",
       "6  41792604.0              92  \n",
       "7  38869193.0              98  \n",
       "8  33665795.0              89  \n",
       "9  33483326.0              89  "
      ],
      "text/html": "<div>\n<style scoped>\n    .dataframe tbody tr th:only-of-type {\n        vertical-align: middle;\n    }\n\n    .dataframe tbody tr th {\n        vertical-align: top;\n    }\n\n    .dataframe thead th {\n        text-align: right;\n    }\n</style>\n<table border=\"1\" class=\"dataframe\">\n  <thead>\n    <tr style=\"text-align: right;\">\n      <th></th>\n      <th>id</th>\n      <th>Artist</th>\n      <th>Genre</th>\n      <th>Followers</th>\n      <th>Popularity Lvl</th>\n    </tr>\n  </thead>\n  <tbody>\n    <tr>\n      <th>0</th>\n      <td>144138</td>\n      <td>Ed Sheeran</td>\n      <td>['pop', 'uk pop']</td>\n      <td>78900234.0</td>\n      <td>92</td>\n    </tr>\n    <tr>\n      <th>1</th>\n      <td>144485</td>\n      <td>Ariana Grande</td>\n      <td>['pop', 'post-teen pop']</td>\n      <td>61301006.0</td>\n      <td>95</td>\n    </tr>\n    <tr>\n      <th>2</th>\n      <td>313676</td>\n      <td>Drake</td>\n      <td>['canadian hip hop', 'canadian pop', 'hip hop'...</td>\n      <td>54416812.0</td>\n      <td>98</td>\n    </tr>\n    <tr>\n      <th>3</th>\n      <td>144481</td>\n      <td>Justin Bieber</td>\n      <td>['canadian pop', 'pop', 'post-teen pop']</td>\n      <td>44606973.0</td>\n      <td>100</td>\n    </tr>\n    <tr>\n      <th>4</th>\n      <td>144488</td>\n      <td>Eminem</td>\n      <td>['detroit hip hop', 'hip hop', 'rap']</td>\n      <td>43747833.0</td>\n      <td>94</td>\n    </tr>\n    <tr>\n      <th>5</th>\n      <td>313508</td>\n      <td>Rihanna</td>\n      <td>['barbadian pop', 'dance pop', 'pop', 'post-te...</td>\n      <td>42244011.0</td>\n      <td>92</td>\n    </tr>\n    <tr>\n      <th>6</th>\n      <td>126658</td>\n      <td>Billie Eilish</td>\n      <td>['electropop', 'pop']</td>\n      <td>41792604.0</td>\n      <td>92</td>\n    </tr>\n    <tr>\n      <th>7</th>\n      <td>126338</td>\n      <td>Taylor Swift</td>\n      <td>['pop', 'post-teen pop']</td>\n      <td>38869193.0</td>\n      <td>98</td>\n    </tr>\n    <tr>\n      <th>8</th>\n      <td>126339</td>\n      <td>Imagine Dragons</td>\n      <td>['modern rock', 'rock']</td>\n      <td>33665795.0</td>\n      <td>89</td>\n    </tr>\n    <tr>\n      <th>9</th>\n      <td>144496</td>\n      <td>Queen</td>\n      <td>['classic rock', 'glam rock', 'rock']</td>\n      <td>33483326.0</td>\n      <td>89</td>\n    </tr>\n  </tbody>\n</table>\n</div>"
     },
     "metadata": {},
     "execution_count": 38
    }
   ],
   "source": [
    "artists_final = artists_reset.rename(columns={\"index\":'id'})\r\n",
    "\r\n",
    "artists_final.head(10)"
   ]
  },
  {
   "cell_type": "code",
   "execution_count": 40,
   "metadata": {},
   "outputs": [
    {
     "output_type": "error",
     "ename": "ValueError",
     "evalue": "Table 'spotify' already exists.",
     "traceback": [
      "\u001b[1;31m---------------------------------------------------------------------------\u001b[0m",
      "\u001b[1;31mValueError\u001b[0m                                Traceback (most recent call last)",
      "\u001b[1;32m<ipython-input-40-9edc0bc91d1a>\u001b[0m in \u001b[0;36m<module>\u001b[1;34m()\u001b[0m\n\u001b[1;32m----> 1\u001b[1;33m \u001b[0martists_final\u001b[0m\u001b[1;33m.\u001b[0m\u001b[0mto_sql\u001b[0m\u001b[1;33m(\u001b[0m\u001b[1;34m\"spotify\"\u001b[0m\u001b[1;33m,\u001b[0m\u001b[0mconn\u001b[0m\u001b[1;33m)\u001b[0m\u001b[1;33m\u001b[0m\u001b[1;33m\u001b[0m\u001b[0m\n\u001b[0m",
      "\u001b[1;32mC:\\Users\\kerry\\anaconda3\\envs\\DataBootCamp\\lib\\site-packages\\pandas\\core\\generic.py\u001b[0m in \u001b[0;36mto_sql\u001b[1;34m(self, name, con, schema, if_exists, index, index_label, chunksize, dtype, method)\u001b[0m\n\u001b[0;32m   2661\u001b[0m             \u001b[0mchunksize\u001b[0m\u001b[1;33m=\u001b[0m\u001b[0mchunksize\u001b[0m\u001b[1;33m,\u001b[0m\u001b[1;33m\u001b[0m\u001b[1;33m\u001b[0m\u001b[0m\n\u001b[0;32m   2662\u001b[0m             \u001b[0mdtype\u001b[0m\u001b[1;33m=\u001b[0m\u001b[0mdtype\u001b[0m\u001b[1;33m,\u001b[0m\u001b[1;33m\u001b[0m\u001b[1;33m\u001b[0m\u001b[0m\n\u001b[1;32m-> 2663\u001b[1;33m             \u001b[0mmethod\u001b[0m\u001b[1;33m=\u001b[0m\u001b[0mmethod\u001b[0m\u001b[1;33m,\u001b[0m\u001b[1;33m\u001b[0m\u001b[1;33m\u001b[0m\u001b[0m\n\u001b[0m\u001b[0;32m   2664\u001b[0m         )\n\u001b[0;32m   2665\u001b[0m \u001b[1;33m\u001b[0m\u001b[0m\n",
      "\u001b[1;32mC:\\Users\\kerry\\anaconda3\\envs\\DataBootCamp\\lib\\site-packages\\pandas\\io\\sql.py\u001b[0m in \u001b[0;36mto_sql\u001b[1;34m(frame, name, con, schema, if_exists, index, index_label, chunksize, dtype, method)\u001b[0m\n\u001b[0;32m    519\u001b[0m         \u001b[0mchunksize\u001b[0m\u001b[1;33m=\u001b[0m\u001b[0mchunksize\u001b[0m\u001b[1;33m,\u001b[0m\u001b[1;33m\u001b[0m\u001b[1;33m\u001b[0m\u001b[0m\n\u001b[0;32m    520\u001b[0m         \u001b[0mdtype\u001b[0m\u001b[1;33m=\u001b[0m\u001b[0mdtype\u001b[0m\u001b[1;33m,\u001b[0m\u001b[1;33m\u001b[0m\u001b[1;33m\u001b[0m\u001b[0m\n\u001b[1;32m--> 521\u001b[1;33m         \u001b[0mmethod\u001b[0m\u001b[1;33m=\u001b[0m\u001b[0mmethod\u001b[0m\u001b[1;33m,\u001b[0m\u001b[1;33m\u001b[0m\u001b[1;33m\u001b[0m\u001b[0m\n\u001b[0m\u001b[0;32m    522\u001b[0m     )\n\u001b[0;32m    523\u001b[0m \u001b[1;33m\u001b[0m\u001b[0m\n",
      "\u001b[1;32mC:\\Users\\kerry\\anaconda3\\envs\\DataBootCamp\\lib\\site-packages\\pandas\\io\\sql.py\u001b[0m in \u001b[0;36mto_sql\u001b[1;34m(self, frame, name, if_exists, index, index_label, schema, chunksize, dtype, method)\u001b[0m\n\u001b[0;32m   1314\u001b[0m             \u001b[0mdtype\u001b[0m\u001b[1;33m=\u001b[0m\u001b[0mdtype\u001b[0m\u001b[1;33m,\u001b[0m\u001b[1;33m\u001b[0m\u001b[1;33m\u001b[0m\u001b[0m\n\u001b[0;32m   1315\u001b[0m         )\n\u001b[1;32m-> 1316\u001b[1;33m         \u001b[0mtable\u001b[0m\u001b[1;33m.\u001b[0m\u001b[0mcreate\u001b[0m\u001b[1;33m(\u001b[0m\u001b[1;33m)\u001b[0m\u001b[1;33m\u001b[0m\u001b[1;33m\u001b[0m\u001b[0m\n\u001b[0m\u001b[0;32m   1317\u001b[0m         \u001b[0mtable\u001b[0m\u001b[1;33m.\u001b[0m\u001b[0minsert\u001b[0m\u001b[1;33m(\u001b[0m\u001b[0mchunksize\u001b[0m\u001b[1;33m,\u001b[0m \u001b[0mmethod\u001b[0m\u001b[1;33m=\u001b[0m\u001b[0mmethod\u001b[0m\u001b[1;33m)\u001b[0m\u001b[1;33m\u001b[0m\u001b[1;33m\u001b[0m\u001b[0m\n\u001b[0;32m   1318\u001b[0m         \u001b[1;32mif\u001b[0m \u001b[1;32mnot\u001b[0m \u001b[0mname\u001b[0m\u001b[1;33m.\u001b[0m\u001b[0misdigit\u001b[0m\u001b[1;33m(\u001b[0m\u001b[1;33m)\u001b[0m \u001b[1;32mand\u001b[0m \u001b[1;32mnot\u001b[0m \u001b[0mname\u001b[0m\u001b[1;33m.\u001b[0m\u001b[0mislower\u001b[0m\u001b[1;33m(\u001b[0m\u001b[1;33m)\u001b[0m\u001b[1;33m:\u001b[0m\u001b[1;33m\u001b[0m\u001b[1;33m\u001b[0m\u001b[0m\n",
      "\u001b[1;32mC:\\Users\\kerry\\anaconda3\\envs\\DataBootCamp\\lib\\site-packages\\pandas\\io\\sql.py\u001b[0m in \u001b[0;36mcreate\u001b[1;34m(self)\u001b[0m\n\u001b[0;32m    644\u001b[0m         \u001b[1;32mif\u001b[0m \u001b[0mself\u001b[0m\u001b[1;33m.\u001b[0m\u001b[0mexists\u001b[0m\u001b[1;33m(\u001b[0m\u001b[1;33m)\u001b[0m\u001b[1;33m:\u001b[0m\u001b[1;33m\u001b[0m\u001b[1;33m\u001b[0m\u001b[0m\n\u001b[0;32m    645\u001b[0m             \u001b[1;32mif\u001b[0m \u001b[0mself\u001b[0m\u001b[1;33m.\u001b[0m\u001b[0mif_exists\u001b[0m \u001b[1;33m==\u001b[0m \u001b[1;34m\"fail\"\u001b[0m\u001b[1;33m:\u001b[0m\u001b[1;33m\u001b[0m\u001b[1;33m\u001b[0m\u001b[0m\n\u001b[1;32m--> 646\u001b[1;33m                 \u001b[1;32mraise\u001b[0m \u001b[0mValueError\u001b[0m\u001b[1;33m(\u001b[0m\u001b[1;34mf\"Table '{self.name}' already exists.\"\u001b[0m\u001b[1;33m)\u001b[0m\u001b[1;33m\u001b[0m\u001b[1;33m\u001b[0m\u001b[0m\n\u001b[0m\u001b[0;32m    647\u001b[0m             \u001b[1;32melif\u001b[0m \u001b[0mself\u001b[0m\u001b[1;33m.\u001b[0m\u001b[0mif_exists\u001b[0m \u001b[1;33m==\u001b[0m \u001b[1;34m\"replace\"\u001b[0m\u001b[1;33m:\u001b[0m\u001b[1;33m\u001b[0m\u001b[1;33m\u001b[0m\u001b[0m\n\u001b[0;32m    648\u001b[0m                 \u001b[0mself\u001b[0m\u001b[1;33m.\u001b[0m\u001b[0mpd_sql\u001b[0m\u001b[1;33m.\u001b[0m\u001b[0mdrop_table\u001b[0m\u001b[1;33m(\u001b[0m\u001b[0mself\u001b[0m\u001b[1;33m.\u001b[0m\u001b[0mname\u001b[0m\u001b[1;33m,\u001b[0m \u001b[0mself\u001b[0m\u001b[1;33m.\u001b[0m\u001b[0mschema\u001b[0m\u001b[1;33m)\u001b[0m\u001b[1;33m\u001b[0m\u001b[1;33m\u001b[0m\u001b[0m\n",
      "\u001b[1;31mValueError\u001b[0m: Table 'spotify' already exists."
     ]
    }
   ],
   "source": [
    "artists_final.to_sql(\"spotify\",conn)"
   ]
  },
  {
   "cell_type": "code",
   "execution_count": 41,
   "metadata": {},
   "outputs": [],
   "source": [
    "# Create the inspector and connect it to the engine\n",
    "inspector = inspect(engine)"
   ]
  },
  {
   "cell_type": "code",
   "execution_count": 42,
   "metadata": {},
   "outputs": [
    {
     "output_type": "execute_result",
     "data": {
      "text/plain": [
       "['spotify']"
      ]
     },
     "metadata": {},
     "execution_count": 42
    }
   ],
   "source": [
    "# Collect the names of tables within the database\n",
    "inspector.get_table_names()"
   ]
  },
  {
   "cell_type": "code",
   "execution_count": null,
   "metadata": {},
   "outputs": [],
   "source": []
  }
 ],
 "metadata": {
  "kernelspec": {
   "name": "python3",
   "display_name": "Python 3.6.10 64-bit ('DataBootCamp': conda)"
  },
  "language_info": {
   "codemirror_mode": {
    "name": "ipython",
    "version": 3
   },
   "file_extension": ".py",
   "mimetype": "text/x-python",
   "name": "python",
   "nbconvert_exporter": "python",
   "pygments_lexer": "ipython3",
   "version": "3.6.10"
  },
  "orig_nbformat": 2,
  "interpreter": {
   "hash": "cf9431fb2f18f4d265e2a8e10d39873690f69d776f1f69bbc20b04b1aea95adf"
  }
 },
 "nbformat": 4,
 "nbformat_minor": 2
}