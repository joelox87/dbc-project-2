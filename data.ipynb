{
 "cells": [
  {
   "cell_type": "code",
   "execution_count": 2,
   "metadata": {},
   "outputs": [],
   "source": [
    "\r\n",
    "import pandas as pd\r\n",
    "from sqlalchemy import create_engine"
   ]
  },
  {
   "cell_type": "code",
   "execution_count": 3,
   "metadata": {},
   "outputs": [
    {
     "data": {
      "text/html": "<div>\n<style scoped>\n    .dataframe tbody tr th:only-of-type {\n        vertical-align: middle;\n    }\n\n    .dataframe tbody tr th {\n        vertical-align: top;\n    }\n\n    .dataframe thead th {\n        text-align: right;\n    }\n</style>\n<table border=\"1\" class=\"dataframe\">\n  <thead>\n    <tr style=\"text-align: right;\">\n      <th></th>\n      <th>id</th>\n      <th>followers</th>\n      <th>genres</th>\n      <th>name</th>\n      <th>popularity</th>\n    </tr>\n  </thead>\n  <tbody>\n    <tr>\n      <th>0</th>\n      <td>0DheY5irMjBUeLybbCUEZ2</td>\n      <td>0.0</td>\n      <td>[]</td>\n      <td>Armid &amp; Amir Zare Pashai feat. Sara Rouzbehani</td>\n      <td>0</td>\n    </tr>\n    <tr>\n      <th>1</th>\n      <td>0DlhY15l3wsrnlfGio2bjU</td>\n      <td>5.0</td>\n      <td>[]</td>\n      <td>ปูนา ภาวิณี</td>\n      <td>0</td>\n    </tr>\n    <tr>\n      <th>2</th>\n      <td>0DmRESX2JknGPQyO15yxg7</td>\n      <td>0.0</td>\n      <td>[]</td>\n      <td>Sadaa</td>\n      <td>0</td>\n    </tr>\n    <tr>\n      <th>3</th>\n      <td>0DmhnbHjm1qw6NCYPeZNgJ</td>\n      <td>0.0</td>\n      <td>[]</td>\n      <td>Tra'gruda</td>\n      <td>0</td>\n    </tr>\n    <tr>\n      <th>4</th>\n      <td>0Dn11fWM7vHQ3rinvWEl4E</td>\n      <td>2.0</td>\n      <td>[]</td>\n      <td>Ioannis Panoutsopoulos</td>\n      <td>0</td>\n    </tr>\n  </tbody>\n</table>\n</div>",
      "text/plain": "                       id  followers genres  \\\n0  0DheY5irMjBUeLybbCUEZ2        0.0     []   \n1  0DlhY15l3wsrnlfGio2bjU        5.0     []   \n2  0DmRESX2JknGPQyO15yxg7        0.0     []   \n3  0DmhnbHjm1qw6NCYPeZNgJ        0.0     []   \n4  0Dn11fWM7vHQ3rinvWEl4E        2.0     []   \n\n                                             name  popularity  \n0  Armid & Amir Zare Pashai feat. Sara Rouzbehani           0  \n1                                     ปูนา ภาวิณี           0  \n2                                           Sadaa           0  \n3                                       Tra'gruda           0  \n4                          Ioannis Panoutsopoulos           0  "
     },
     "execution_count": 3,
     "metadata": {},
     "output_type": "execute_result"
    }
   ],
   "source": [
    "genres = 'data/artists.csv'\r\n",
    "genres_df = pd.read_csv(genres)\r\n",
    "genres_df.head()"
   ]
  },
  {
   "cell_type": "code",
   "execution_count": null,
   "metadata": {},
   "outputs": [],
   "source": []
  }
 ],
 "metadata": {
  "kernelspec": {
   "display_name": "Python 3.8.5 64-bit ('base': conda)",
   "name": "python385jvsc74a57bd0bfc9cf530601329b457e51059443edadfb9bb1ebead09777b097007534cdaa11"
  },
  "language_info": {
   "codemirror_mode": {
    "name": "ipython",
    "version": 3
   },
   "file_extension": ".py",
   "mimetype": "text/x-python",
   "name": "python",
   "nbconvert_exporter": "python",
   "pygments_lexer": "ipython3",
   "version": "3.8.5"
  },
  "orig_nbformat": 2
 },
 "nbformat": 4,
 "nbformat_minor": 2
}