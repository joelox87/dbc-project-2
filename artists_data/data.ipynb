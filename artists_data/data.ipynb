{
 "cells": [
  {
   "cell_type": "code",
   "execution_count": 35,
   "metadata": {},
   "outputs": [],
   "source": [
    "# Import Pandas\r\n",
    "import pandas as pd\r\n",
    "from sqlalchemy import create_engine"
   ]
  },
  {
   "cell_type": "code",
   "execution_count": 36,
   "metadata": {},
   "outputs": [
    {
     "data": {
      "text/html": "<div>\n<style scoped>\n    .dataframe tbody tr th:only-of-type {\n        vertical-align: middle;\n    }\n\n    .dataframe tbody tr th {\n        vertical-align: top;\n    }\n\n    .dataframe thead th {\n        text-align: right;\n    }\n</style>\n<table border=\"1\" class=\"dataframe\">\n  <thead>\n    <tr style=\"text-align: right;\">\n      <th></th>\n      <th>id</th>\n      <th>followers</th>\n      <th>genres</th>\n      <th>name</th>\n      <th>popularity</th>\n    </tr>\n  </thead>\n  <tbody>\n    <tr>\n      <th>1104344</th>\n      <td>6rJIG42vcWAf1UBdRFlQxB</td>\n      <td>3345.0</td>\n      <td>[]</td>\n      <td>Cody Longo</td>\n      <td>8</td>\n    </tr>\n    <tr>\n      <th>1104345</th>\n      <td>1ljurfXKPlGncNdW3J8zJ8</td>\n      <td>2123.0</td>\n      <td>['deep acoustic pop']</td>\n      <td>Right the Stars</td>\n      <td>18</td>\n    </tr>\n    <tr>\n      <th>1104346</th>\n      <td>2vnT9YhKIvjVo9LnVjWmr2</td>\n      <td>26.0</td>\n      <td>[]</td>\n      <td>Jesse Giddings</td>\n      <td>0</td>\n    </tr>\n    <tr>\n      <th>1104347</th>\n      <td>3ID0E5XCvnJIYZEq043ZoB</td>\n      <td>406.0</td>\n      <td>[]</td>\n      <td>The Boy Band Project</td>\n      <td>0</td>\n    </tr>\n    <tr>\n      <th>1104348</th>\n      <td>5m0Y4WSYyai2BU752lCASy</td>\n      <td>146.0</td>\n      <td>[]</td>\n      <td>10 Reasons</td>\n      <td>1</td>\n    </tr>\n  </tbody>\n</table>\n</div>",
      "text/plain": "                             id  followers                 genres  \\\n1104344  6rJIG42vcWAf1UBdRFlQxB     3345.0                     []   \n1104345  1ljurfXKPlGncNdW3J8zJ8     2123.0  ['deep acoustic pop']   \n1104346  2vnT9YhKIvjVo9LnVjWmr2       26.0                     []   \n1104347  3ID0E5XCvnJIYZEq043ZoB      406.0                     []   \n1104348  5m0Y4WSYyai2BU752lCASy      146.0                     []   \n\n                         name  popularity  \n1104344            Cody Longo           8  \n1104345       Right the Stars          18  \n1104346        Jesse Giddings           0  \n1104347  The Boy Band Project           0  \n1104348            10 Reasons           1  "
     },
     "execution_count": 36,
     "metadata": {},
     "output_type": "execute_result"
    }
   ],
   "source": [
    "#import csv file and make it into a dataframe\r\n",
    "artists = '../data/artists.csv'\r\n",
    "artists_df = pd.read_csv(artists)\r\n",
    "artists_df.tail()"
   ]
  },
  {
   "cell_type": "code",
   "execution_count": 37,
   "metadata": {},
   "outputs": [
    {
     "data": {
      "text/html": "<div>\n<style scoped>\n    .dataframe tbody tr th:only-of-type {\n        vertical-align: middle;\n    }\n\n    .dataframe tbody tr th {\n        vertical-align: top;\n    }\n\n    .dataframe thead th {\n        text-align: right;\n    }\n</style>\n<table border=\"1\" class=\"dataframe\">\n  <thead>\n    <tr style=\"text-align: right;\">\n      <th></th>\n      <th>id</th>\n      <th>followers</th>\n      <th>genres</th>\n      <th>name</th>\n      <th>popularity</th>\n    </tr>\n  </thead>\n  <tbody>\n    <tr>\n      <th>144138</th>\n      <td>6eUKZXaKkcviH0Ku9w2n3V</td>\n      <td>78900234.0</td>\n      <td>['pop', 'uk pop']</td>\n      <td>Ed Sheeran</td>\n      <td>92</td>\n    </tr>\n    <tr>\n      <th>144485</th>\n      <td>66CXWjxzNUsdJxJ2JdwvnR</td>\n      <td>61301006.0</td>\n      <td>['pop', 'post-teen pop']</td>\n      <td>Ariana Grande</td>\n      <td>95</td>\n    </tr>\n    <tr>\n      <th>313676</th>\n      <td>3TVXtAsR1Inumwj472S9r4</td>\n      <td>54416812.0</td>\n      <td>['canadian hip hop', 'canadian pop', 'hip hop'...</td>\n      <td>Drake</td>\n      <td>98</td>\n    </tr>\n    <tr>\n      <th>144481</th>\n      <td>1uNFoZAHBGtllmzznpCI3s</td>\n      <td>44606973.0</td>\n      <td>['canadian pop', 'pop', 'post-teen pop']</td>\n      <td>Justin Bieber</td>\n      <td>100</td>\n    </tr>\n    <tr>\n      <th>144488</th>\n      <td>7dGJo4pcD2V6oG8kP0tJRR</td>\n      <td>43747833.0</td>\n      <td>['detroit hip hop', 'hip hop', 'rap']</td>\n      <td>Eminem</td>\n      <td>94</td>\n    </tr>\n  </tbody>\n</table>\n</div>",
      "text/plain": "                            id   followers  \\\n144138  6eUKZXaKkcviH0Ku9w2n3V  78900234.0   \n144485  66CXWjxzNUsdJxJ2JdwvnR  61301006.0   \n313676  3TVXtAsR1Inumwj472S9r4  54416812.0   \n144481  1uNFoZAHBGtllmzznpCI3s  44606973.0   \n144488  7dGJo4pcD2V6oG8kP0tJRR  43747833.0   \n\n                                                   genres           name  \\\n144138                                  ['pop', 'uk pop']     Ed Sheeran   \n144485                           ['pop', 'post-teen pop']  Ariana Grande   \n313676  ['canadian hip hop', 'canadian pop', 'hip hop'...          Drake   \n144481           ['canadian pop', 'pop', 'post-teen pop']  Justin Bieber   \n144488              ['detroit hip hop', 'hip hop', 'rap']         Eminem   \n\n        popularity  \n144138          92  \n144485          95  \n313676          98  \n144481         100  \n144488          94  "
     },
     "execution_count": 37,
     "metadata": {},
     "output_type": "execute_result"
    }
   ],
   "source": [
    "# reorganize data from most followers to least\r\n",
    "artists_df.sort_values(by=['followers'],inplace = True, ascending = False)\r\n",
    "artists_df.head()"
   ]
  },
  {
   "cell_type": "code",
   "execution_count": 38,
   "metadata": {},
   "outputs": [
    {
     "data": {
      "text/html": "<div>\n<style scoped>\n    .dataframe tbody tr th:only-of-type {\n        vertical-align: middle;\n    }\n\n    .dataframe tbody tr th {\n        vertical-align: top;\n    }\n\n    .dataframe thead th {\n        text-align: right;\n    }\n</style>\n<table border=\"1\" class=\"dataframe\">\n  <thead>\n    <tr style=\"text-align: right;\">\n      <th></th>\n      <th>name</th>\n      <th>genres</th>\n      <th>followers</th>\n      <th>popularity</th>\n    </tr>\n  </thead>\n  <tbody>\n    <tr>\n      <th>144138</th>\n      <td>Ed Sheeran</td>\n      <td>['pop', 'uk pop']</td>\n      <td>78900234.0</td>\n      <td>92</td>\n    </tr>\n    <tr>\n      <th>144485</th>\n      <td>Ariana Grande</td>\n      <td>['pop', 'post-teen pop']</td>\n      <td>61301006.0</td>\n      <td>95</td>\n    </tr>\n    <tr>\n      <th>313676</th>\n      <td>Drake</td>\n      <td>['canadian hip hop', 'canadian pop', 'hip hop'...</td>\n      <td>54416812.0</td>\n      <td>98</td>\n    </tr>\n    <tr>\n      <th>144481</th>\n      <td>Justin Bieber</td>\n      <td>['canadian pop', 'pop', 'post-teen pop']</td>\n      <td>44606973.0</td>\n      <td>100</td>\n    </tr>\n    <tr>\n      <th>144488</th>\n      <td>Eminem</td>\n      <td>['detroit hip hop', 'hip hop', 'rap']</td>\n      <td>43747833.0</td>\n      <td>94</td>\n    </tr>\n  </tbody>\n</table>\n</div>",
      "text/plain": "                 name                                             genres  \\\n144138     Ed Sheeran                                  ['pop', 'uk pop']   \n144485  Ariana Grande                           ['pop', 'post-teen pop']   \n313676          Drake  ['canadian hip hop', 'canadian pop', 'hip hop'...   \n144481  Justin Bieber           ['canadian pop', 'pop', 'post-teen pop']   \n144488         Eminem              ['detroit hip hop', 'hip hop', 'rap']   \n\n         followers  popularity  \n144138  78900234.0          92  \n144485  61301006.0          95  \n313676  54416812.0          98  \n144481  44606973.0         100  \n144488  43747833.0          94  "
     },
     "execution_count": 38,
     "metadata": {},
     "output_type": "execute_result"
    }
   ],
   "source": [
    "# take out columns not needed\r\n",
    "artists_cols = ['name','genres','followers','popularity']\r\n",
    "artists_v2 = artists_df[artists_cols].copy()\r\n",
    "\r\n",
    "artists_v2.head()"
   ]
  },
  {
   "cell_type": "code",
   "execution_count": 39,
   "metadata": {},
   "outputs": [
    {
     "data": {
      "text/html": "<div>\n<style scoped>\n    .dataframe tbody tr th:only-of-type {\n        vertical-align: middle;\n    }\n\n    .dataframe tbody tr th {\n        vertical-align: top;\n    }\n\n    .dataframe thead th {\n        text-align: right;\n    }\n</style>\n<table border=\"1\" class=\"dataframe\">\n  <thead>\n    <tr style=\"text-align: right;\">\n      <th></th>\n      <th>Artist</th>\n      <th>Genre</th>\n      <th>Followers</th>\n      <th>Popularity Lvl</th>\n    </tr>\n  </thead>\n  <tbody>\n    <tr>\n      <th>144138</th>\n      <td>Ed Sheeran</td>\n      <td>['pop', 'uk pop']</td>\n      <td>78900234.0</td>\n      <td>92</td>\n    </tr>\n    <tr>\n      <th>144485</th>\n      <td>Ariana Grande</td>\n      <td>['pop', 'post-teen pop']</td>\n      <td>61301006.0</td>\n      <td>95</td>\n    </tr>\n    <tr>\n      <th>313676</th>\n      <td>Drake</td>\n      <td>['canadian hip hop', 'canadian pop', 'hip hop'...</td>\n      <td>54416812.0</td>\n      <td>98</td>\n    </tr>\n    <tr>\n      <th>144481</th>\n      <td>Justin Bieber</td>\n      <td>['canadian pop', 'pop', 'post-teen pop']</td>\n      <td>44606973.0</td>\n      <td>100</td>\n    </tr>\n    <tr>\n      <th>144488</th>\n      <td>Eminem</td>\n      <td>['detroit hip hop', 'hip hop', 'rap']</td>\n      <td>43747833.0</td>\n      <td>94</td>\n    </tr>\n    <tr>\n      <th>313508</th>\n      <td>Rihanna</td>\n      <td>['barbadian pop', 'dance pop', 'pop', 'post-te...</td>\n      <td>42244011.0</td>\n      <td>92</td>\n    </tr>\n    <tr>\n      <th>126658</th>\n      <td>Billie Eilish</td>\n      <td>['electropop', 'pop']</td>\n      <td>41792604.0</td>\n      <td>92</td>\n    </tr>\n    <tr>\n      <th>126338</th>\n      <td>Taylor Swift</td>\n      <td>['pop', 'post-teen pop']</td>\n      <td>38869193.0</td>\n      <td>98</td>\n    </tr>\n    <tr>\n      <th>126339</th>\n      <td>Imagine Dragons</td>\n      <td>['modern rock', 'rock']</td>\n      <td>33665795.0</td>\n      <td>89</td>\n    </tr>\n    <tr>\n      <th>144496</th>\n      <td>Queen</td>\n      <td>['classic rock', 'glam rock', 'rock']</td>\n      <td>33483326.0</td>\n      <td>89</td>\n    </tr>\n  </tbody>\n</table>\n</div>",
      "text/plain": "                 Artist                                              Genre  \\\n144138       Ed Sheeran                                  ['pop', 'uk pop']   \n144485    Ariana Grande                           ['pop', 'post-teen pop']   \n313676            Drake  ['canadian hip hop', 'canadian pop', 'hip hop'...   \n144481    Justin Bieber           ['canadian pop', 'pop', 'post-teen pop']   \n144488           Eminem              ['detroit hip hop', 'hip hop', 'rap']   \n313508          Rihanna  ['barbadian pop', 'dance pop', 'pop', 'post-te...   \n126658    Billie Eilish                              ['electropop', 'pop']   \n126338     Taylor Swift                           ['pop', 'post-teen pop']   \n126339  Imagine Dragons                            ['modern rock', 'rock']   \n144496            Queen              ['classic rock', 'glam rock', 'rock']   \n\n         Followers  Popularity Lvl  \n144138  78900234.0              92  \n144485  61301006.0              95  \n313676  54416812.0              98  \n144481  44606973.0             100  \n144488  43747833.0              94  \n313508  42244011.0              92  \n126658  41792604.0              92  \n126338  38869193.0              98  \n126339  33665795.0              89  \n144496  33483326.0              89  "
     },
     "execution_count": 39,
     "metadata": {},
     "output_type": "execute_result"
    }
   ],
   "source": [
    "#rename columns\r\n",
    "artists_renamed = artists_v2.rename(columns ={\r\n",
    "\r\n",
    "'name': 'Artist',\r\n",
    "'genres': 'Genre',\r\n",
    "'followers': 'Followers',\r\n",
    "'popularity':'Popularity Lvl'})\r\n",
    "\r\n",
    "artists_renamed.head(10)"
   ]
  },
  {
   "cell_type": "code",
   "execution_count": 42,
   "metadata": {},
   "outputs": [
    {
     "data": {
      "text/html": "<div>\n<style scoped>\n    .dataframe tbody tr th:only-of-type {\n        vertical-align: middle;\n    }\n\n    .dataframe tbody tr th {\n        vertical-align: top;\n    }\n\n    .dataframe thead th {\n        text-align: right;\n    }\n</style>\n<table border=\"1\" class=\"dataframe\">\n  <thead>\n    <tr style=\"text-align: right;\">\n      <th></th>\n      <th>index</th>\n      <th>Artist</th>\n      <th>Genre</th>\n      <th>Followers</th>\n      <th>Popularity Lvl</th>\n    </tr>\n  </thead>\n  <tbody>\n    <tr>\n      <th>0</th>\n      <td>144138</td>\n      <td>Ed Sheeran</td>\n      <td>['pop', 'uk pop']</td>\n      <td>78900234.0</td>\n      <td>92</td>\n    </tr>\n    <tr>\n      <th>1</th>\n      <td>144485</td>\n      <td>Ariana Grande</td>\n      <td>['pop', 'post-teen pop']</td>\n      <td>61301006.0</td>\n      <td>95</td>\n    </tr>\n    <tr>\n      <th>2</th>\n      <td>313676</td>\n      <td>Drake</td>\n      <td>['canadian hip hop', 'canadian pop', 'hip hop'...</td>\n      <td>54416812.0</td>\n      <td>98</td>\n    </tr>\n    <tr>\n      <th>3</th>\n      <td>144481</td>\n      <td>Justin Bieber</td>\n      <td>['canadian pop', 'pop', 'post-teen pop']</td>\n      <td>44606973.0</td>\n      <td>100</td>\n    </tr>\n    <tr>\n      <th>4</th>\n      <td>144488</td>\n      <td>Eminem</td>\n      <td>['detroit hip hop', 'hip hop', 'rap']</td>\n      <td>43747833.0</td>\n      <td>94</td>\n    </tr>\n  </tbody>\n</table>\n</div>",
      "text/plain": "    index         Artist                                              Genre  \\\n0  144138     Ed Sheeran                                  ['pop', 'uk pop']   \n1  144485  Ariana Grande                           ['pop', 'post-teen pop']   \n2  313676          Drake  ['canadian hip hop', 'canadian pop', 'hip hop'...   \n3  144481  Justin Bieber           ['canadian pop', 'pop', 'post-teen pop']   \n4  144488         Eminem              ['detroit hip hop', 'hip hop', 'rap']   \n\n    Followers  Popularity Lvl  \n0  78900234.0              92  \n1  61301006.0              95  \n2  54416812.0              98  \n3  44606973.0             100  \n4  43747833.0              94  "
     },
     "execution_count": 42,
     "metadata": {},
     "output_type": "execute_result"
    }
   ],
   "source": [
    "artists_reset = artists_renamed.reset_index()\r\n",
    "artists_reset.head()"
   ]
  },
  {
   "cell_type": "code",
   "execution_count": 43,
   "metadata": {},
   "outputs": [
    {
     "data": {
      "text/html": "<div>\n<style scoped>\n    .dataframe tbody tr th:only-of-type {\n        vertical-align: middle;\n    }\n\n    .dataframe tbody tr th {\n        vertical-align: top;\n    }\n\n    .dataframe thead th {\n        text-align: right;\n    }\n</style>\n<table border=\"1\" class=\"dataframe\">\n  <thead>\n    <tr style=\"text-align: right;\">\n      <th></th>\n      <th>id</th>\n      <th>Artist</th>\n      <th>Genre</th>\n      <th>Followers</th>\n      <th>Popularity Lvl</th>\n    </tr>\n  </thead>\n  <tbody>\n    <tr>\n      <th>0</th>\n      <td>144138</td>\n      <td>Ed Sheeran</td>\n      <td>['pop', 'uk pop']</td>\n      <td>78900234.0</td>\n      <td>92</td>\n    </tr>\n    <tr>\n      <th>1</th>\n      <td>144485</td>\n      <td>Ariana Grande</td>\n      <td>['pop', 'post-teen pop']</td>\n      <td>61301006.0</td>\n      <td>95</td>\n    </tr>\n    <tr>\n      <th>2</th>\n      <td>313676</td>\n      <td>Drake</td>\n      <td>['canadian hip hop', 'canadian pop', 'hip hop'...</td>\n      <td>54416812.0</td>\n      <td>98</td>\n    </tr>\n    <tr>\n      <th>3</th>\n      <td>144481</td>\n      <td>Justin Bieber</td>\n      <td>['canadian pop', 'pop', 'post-teen pop']</td>\n      <td>44606973.0</td>\n      <td>100</td>\n    </tr>\n    <tr>\n      <th>4</th>\n      <td>144488</td>\n      <td>Eminem</td>\n      <td>['detroit hip hop', 'hip hop', 'rap']</td>\n      <td>43747833.0</td>\n      <td>94</td>\n    </tr>\n  </tbody>\n</table>\n</div>",
      "text/plain": "       id         Artist                                              Genre  \\\n0  144138     Ed Sheeran                                  ['pop', 'uk pop']   \n1  144485  Ariana Grande                           ['pop', 'post-teen pop']   \n2  313676          Drake  ['canadian hip hop', 'canadian pop', 'hip hop'...   \n3  144481  Justin Bieber           ['canadian pop', 'pop', 'post-teen pop']   \n4  144488         Eminem              ['detroit hip hop', 'hip hop', 'rap']   \n\n    Followers  Popularity Lvl  \n0  78900234.0              92  \n1  61301006.0              95  \n2  54416812.0              98  \n3  44606973.0             100  \n4  43747833.0              94  "
     },
     "execution_count": 43,
     "metadata": {},
     "output_type": "execute_result"
    }
   ],
   "source": [
    "artists_final = artists_reset.rename(columns={\"index\":'id'})\r\n",
    "\r\n",
    "artists_final.head(10)\\"
   ]
  },
  {
   "cell_type": "code",
   "execution_count": null,
   "metadata": {},
   "outputs": [],
   "source": []
  }
 ],
 "metadata": {
  "kernelspec": {
   "display_name": "Python 3.8.5 64-bit ('base': conda)",
   "name": "python385jvsc74a57bd0bfc9cf530601329b457e51059443edadfb9bb1ebead09777b097007534cdaa11"
  },
  "language_info": {
   "codemirror_mode": {
    "name": "ipython",
    "version": 3
   },
   "file_extension": ".py",
   "mimetype": "text/x-python",
   "name": "python",
   "nbconvert_exporter": "python",
   "pygments_lexer": "ipython3",
   "version": "3.8.5"
  },
  "orig_nbformat": 2
 },
 "nbformat": 4,
 "nbformat_minor": 2
}