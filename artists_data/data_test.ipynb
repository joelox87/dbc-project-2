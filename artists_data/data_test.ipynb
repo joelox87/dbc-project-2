{
 "cells": [
  {
   "cell_type": "code",
   "execution_count": 13,
   "metadata": {},
   "outputs": [],
   "source": [
    "# Import Matplot lib\n",
    "import matplotlib\n",
    "from matplotlib import style\n",
    "style.use('seaborn')\n",
    "import matplotlib.pyplot as plt"
   ]
  },
  {
   "cell_type": "code",
   "execution_count": 14,
   "metadata": {},
   "outputs": [],
   "source": [
    "# Import SQLAlchemy `automap` and other dependencies here\n",
    "import sqlalchemy\n",
    "from sqlalchemy.ext.automap import automap_base\n",
    "from sqlalchemy.orm import Session\n",
    "from sqlalchemy import create_engine, inspect, func\n",
    "\n",
    "database_path = \"../spotify.sqlite\""
   ]
  },
  {
   "cell_type": "code",
   "execution_count": 15,
   "metadata": {},
   "outputs": [],
   "source": [
    "# Import Pandas\n",
    "import pandas as pd"
   ]
  },
  {
   "cell_type": "code",
   "execution_count": 16,
   "metadata": {},
   "outputs": [],
   "source": [
    "#Create an engine for the `spotify.sqlite` database\n",
    "engine = create_engine(f\"sqlite:///{database_path}\", echo=False)\n",
    "conn = engine.connect()"
   ]
  },
  {
   "cell_type": "code",
   "execution_count": 17,
   "metadata": {},
   "outputs": [
    {
     "output_type": "error",
     "ename": "FileNotFoundError",
     "evalue": "[Errno 2] File ../data/artists.csv does not exist: '../data/artists.csv'",
     "traceback": [
      "\u001b[1;31m---------------------------------------------------------------------------\u001b[0m",
      "\u001b[1;31mFileNotFoundError\u001b[0m                         Traceback (most recent call last)",
      "\u001b[1;32m<ipython-input-17-1fcae7ee7f1b>\u001b[0m in \u001b[0;36m<module>\u001b[1;34m()\u001b[0m\n\u001b[0;32m      1\u001b[0m \u001b[1;31m#import csv file and make it into a dataframe\u001b[0m\u001b[1;33m\u001b[0m\u001b[1;33m\u001b[0m\u001b[1;33m\u001b[0m\u001b[0m\n\u001b[0;32m      2\u001b[0m \u001b[0martists\u001b[0m \u001b[1;33m=\u001b[0m \u001b[1;34m'../data/artists.csv'\u001b[0m\u001b[1;33m\u001b[0m\u001b[1;33m\u001b[0m\u001b[0m\n\u001b[1;32m----> 3\u001b[1;33m \u001b[0martists_df\u001b[0m \u001b[1;33m=\u001b[0m \u001b[0mpd\u001b[0m\u001b[1;33m.\u001b[0m\u001b[0mread_csv\u001b[0m\u001b[1;33m(\u001b[0m\u001b[0martists\u001b[0m\u001b[1;33m)\u001b[0m\u001b[1;33m\u001b[0m\u001b[1;33m\u001b[0m\u001b[0m\n\u001b[0m\u001b[0;32m      4\u001b[0m \u001b[0martists_df\u001b[0m\u001b[1;33m.\u001b[0m\u001b[0mtail\u001b[0m\u001b[1;33m(\u001b[0m\u001b[1;33m)\u001b[0m\u001b[1;33m\u001b[0m\u001b[1;33m\u001b[0m\u001b[0m\n",
      "\u001b[1;32mC:\\Users\\kerry\\anaconda3\\envs\\DataBootCamp\\lib\\site-packages\\pandas\\io\\parsers.py\u001b[0m in \u001b[0;36mparser_f\u001b[1;34m(filepath_or_buffer, sep, delimiter, header, names, index_col, usecols, squeeze, prefix, mangle_dupe_cols, dtype, engine, converters, true_values, false_values, skipinitialspace, skiprows, skipfooter, nrows, na_values, keep_default_na, na_filter, verbose, skip_blank_lines, parse_dates, infer_datetime_format, keep_date_col, date_parser, dayfirst, cache_dates, iterator, chunksize, compression, thousands, decimal, lineterminator, quotechar, quoting, doublequote, escapechar, comment, encoding, dialect, error_bad_lines, warn_bad_lines, delim_whitespace, low_memory, memory_map, float_precision)\u001b[0m\n\u001b[0;32m    674\u001b[0m         )\n\u001b[0;32m    675\u001b[0m \u001b[1;33m\u001b[0m\u001b[0m\n\u001b[1;32m--> 676\u001b[1;33m         \u001b[1;32mreturn\u001b[0m \u001b[0m_read\u001b[0m\u001b[1;33m(\u001b[0m\u001b[0mfilepath_or_buffer\u001b[0m\u001b[1;33m,\u001b[0m \u001b[0mkwds\u001b[0m\u001b[1;33m)\u001b[0m\u001b[1;33m\u001b[0m\u001b[1;33m\u001b[0m\u001b[0m\n\u001b[0m\u001b[0;32m    677\u001b[0m \u001b[1;33m\u001b[0m\u001b[0m\n\u001b[0;32m    678\u001b[0m     \u001b[0mparser_f\u001b[0m\u001b[1;33m.\u001b[0m\u001b[0m__name__\u001b[0m \u001b[1;33m=\u001b[0m \u001b[0mname\u001b[0m\u001b[1;33m\u001b[0m\u001b[1;33m\u001b[0m\u001b[0m\n",
      "\u001b[1;32mC:\\Users\\kerry\\anaconda3\\envs\\DataBootCamp\\lib\\site-packages\\pandas\\io\\parsers.py\u001b[0m in \u001b[0;36m_read\u001b[1;34m(filepath_or_buffer, kwds)\u001b[0m\n\u001b[0;32m    446\u001b[0m \u001b[1;33m\u001b[0m\u001b[0m\n\u001b[0;32m    447\u001b[0m     \u001b[1;31m# Create the parser.\u001b[0m\u001b[1;33m\u001b[0m\u001b[1;33m\u001b[0m\u001b[1;33m\u001b[0m\u001b[0m\n\u001b[1;32m--> 448\u001b[1;33m     \u001b[0mparser\u001b[0m \u001b[1;33m=\u001b[0m \u001b[0mTextFileReader\u001b[0m\u001b[1;33m(\u001b[0m\u001b[0mfp_or_buf\u001b[0m\u001b[1;33m,\u001b[0m \u001b[1;33m**\u001b[0m\u001b[0mkwds\u001b[0m\u001b[1;33m)\u001b[0m\u001b[1;33m\u001b[0m\u001b[1;33m\u001b[0m\u001b[0m\n\u001b[0m\u001b[0;32m    449\u001b[0m \u001b[1;33m\u001b[0m\u001b[0m\n\u001b[0;32m    450\u001b[0m     \u001b[1;32mif\u001b[0m \u001b[0mchunksize\u001b[0m \u001b[1;32mor\u001b[0m \u001b[0miterator\u001b[0m\u001b[1;33m:\u001b[0m\u001b[1;33m\u001b[0m\u001b[1;33m\u001b[0m\u001b[0m\n",
      "\u001b[1;32mC:\\Users\\kerry\\anaconda3\\envs\\DataBootCamp\\lib\\site-packages\\pandas\\io\\parsers.py\u001b[0m in \u001b[0;36m__init__\u001b[1;34m(self, f, engine, **kwds)\u001b[0m\n\u001b[0;32m    878\u001b[0m             \u001b[0mself\u001b[0m\u001b[1;33m.\u001b[0m\u001b[0moptions\u001b[0m\u001b[1;33m[\u001b[0m\u001b[1;34m\"has_index_names\"\u001b[0m\u001b[1;33m]\u001b[0m \u001b[1;33m=\u001b[0m \u001b[0mkwds\u001b[0m\u001b[1;33m[\u001b[0m\u001b[1;34m\"has_index_names\"\u001b[0m\u001b[1;33m]\u001b[0m\u001b[1;33m\u001b[0m\u001b[1;33m\u001b[0m\u001b[0m\n\u001b[0;32m    879\u001b[0m \u001b[1;33m\u001b[0m\u001b[0m\n\u001b[1;32m--> 880\u001b[1;33m         \u001b[0mself\u001b[0m\u001b[1;33m.\u001b[0m\u001b[0m_make_engine\u001b[0m\u001b[1;33m(\u001b[0m\u001b[0mself\u001b[0m\u001b[1;33m.\u001b[0m\u001b[0mengine\u001b[0m\u001b[1;33m)\u001b[0m\u001b[1;33m\u001b[0m\u001b[1;33m\u001b[0m\u001b[0m\n\u001b[0m\u001b[0;32m    881\u001b[0m \u001b[1;33m\u001b[0m\u001b[0m\n\u001b[0;32m    882\u001b[0m     \u001b[1;32mdef\u001b[0m \u001b[0mclose\u001b[0m\u001b[1;33m(\u001b[0m\u001b[0mself\u001b[0m\u001b[1;33m)\u001b[0m\u001b[1;33m:\u001b[0m\u001b[1;33m\u001b[0m\u001b[1;33m\u001b[0m\u001b[0m\n",
      "\u001b[1;32mC:\\Users\\kerry\\anaconda3\\envs\\DataBootCamp\\lib\\site-packages\\pandas\\io\\parsers.py\u001b[0m in \u001b[0;36m_make_engine\u001b[1;34m(self, engine)\u001b[0m\n\u001b[0;32m   1112\u001b[0m     \u001b[1;32mdef\u001b[0m \u001b[0m_make_engine\u001b[0m\u001b[1;33m(\u001b[0m\u001b[0mself\u001b[0m\u001b[1;33m,\u001b[0m \u001b[0mengine\u001b[0m\u001b[1;33m=\u001b[0m\u001b[1;34m\"c\"\u001b[0m\u001b[1;33m)\u001b[0m\u001b[1;33m:\u001b[0m\u001b[1;33m\u001b[0m\u001b[1;33m\u001b[0m\u001b[0m\n\u001b[0;32m   1113\u001b[0m         \u001b[1;32mif\u001b[0m \u001b[0mengine\u001b[0m \u001b[1;33m==\u001b[0m \u001b[1;34m\"c\"\u001b[0m\u001b[1;33m:\u001b[0m\u001b[1;33m\u001b[0m\u001b[1;33m\u001b[0m\u001b[0m\n\u001b[1;32m-> 1114\u001b[1;33m             \u001b[0mself\u001b[0m\u001b[1;33m.\u001b[0m\u001b[0m_engine\u001b[0m \u001b[1;33m=\u001b[0m \u001b[0mCParserWrapper\u001b[0m\u001b[1;33m(\u001b[0m\u001b[0mself\u001b[0m\u001b[1;33m.\u001b[0m\u001b[0mf\u001b[0m\u001b[1;33m,\u001b[0m \u001b[1;33m**\u001b[0m\u001b[0mself\u001b[0m\u001b[1;33m.\u001b[0m\u001b[0moptions\u001b[0m\u001b[1;33m)\u001b[0m\u001b[1;33m\u001b[0m\u001b[1;33m\u001b[0m\u001b[0m\n\u001b[0m\u001b[0;32m   1115\u001b[0m         \u001b[1;32melse\u001b[0m\u001b[1;33m:\u001b[0m\u001b[1;33m\u001b[0m\u001b[1;33m\u001b[0m\u001b[0m\n\u001b[0;32m   1116\u001b[0m             \u001b[1;32mif\u001b[0m \u001b[0mengine\u001b[0m \u001b[1;33m==\u001b[0m \u001b[1;34m\"python\"\u001b[0m\u001b[1;33m:\u001b[0m\u001b[1;33m\u001b[0m\u001b[1;33m\u001b[0m\u001b[0m\n",
      "\u001b[1;32mC:\\Users\\kerry\\anaconda3\\envs\\DataBootCamp\\lib\\site-packages\\pandas\\io\\parsers.py\u001b[0m in \u001b[0;36m__init__\u001b[1;34m(self, src, **kwds)\u001b[0m\n\u001b[0;32m   1889\u001b[0m         \u001b[0mkwds\u001b[0m\u001b[1;33m[\u001b[0m\u001b[1;34m\"usecols\"\u001b[0m\u001b[1;33m]\u001b[0m \u001b[1;33m=\u001b[0m \u001b[0mself\u001b[0m\u001b[1;33m.\u001b[0m\u001b[0musecols\u001b[0m\u001b[1;33m\u001b[0m\u001b[1;33m\u001b[0m\u001b[0m\n\u001b[0;32m   1890\u001b[0m \u001b[1;33m\u001b[0m\u001b[0m\n\u001b[1;32m-> 1891\u001b[1;33m         \u001b[0mself\u001b[0m\u001b[1;33m.\u001b[0m\u001b[0m_reader\u001b[0m \u001b[1;33m=\u001b[0m \u001b[0mparsers\u001b[0m\u001b[1;33m.\u001b[0m\u001b[0mTextReader\u001b[0m\u001b[1;33m(\u001b[0m\u001b[0msrc\u001b[0m\u001b[1;33m,\u001b[0m \u001b[1;33m**\u001b[0m\u001b[0mkwds\u001b[0m\u001b[1;33m)\u001b[0m\u001b[1;33m\u001b[0m\u001b[1;33m\u001b[0m\u001b[0m\n\u001b[0m\u001b[0;32m   1892\u001b[0m         \u001b[0mself\u001b[0m\u001b[1;33m.\u001b[0m\u001b[0munnamed_cols\u001b[0m \u001b[1;33m=\u001b[0m \u001b[0mself\u001b[0m\u001b[1;33m.\u001b[0m\u001b[0m_reader\u001b[0m\u001b[1;33m.\u001b[0m\u001b[0munnamed_cols\u001b[0m\u001b[1;33m\u001b[0m\u001b[1;33m\u001b[0m\u001b[0m\n\u001b[0;32m   1893\u001b[0m \u001b[1;33m\u001b[0m\u001b[0m\n",
      "\u001b[1;32mpandas\\_libs\\parsers.pyx\u001b[0m in \u001b[0;36mpandas._libs.parsers.TextReader.__cinit__\u001b[1;34m()\u001b[0m\n",
      "\u001b[1;32mpandas\\_libs\\parsers.pyx\u001b[0m in \u001b[0;36mpandas._libs.parsers.TextReader._setup_parser_source\u001b[1;34m()\u001b[0m\n",
      "\u001b[1;31mFileNotFoundError\u001b[0m: [Errno 2] File ../data/artists.csv does not exist: '../data/artists.csv'"
     ]
    }
   ],
   "source": [
    "#import csv file and make it into a dataframe\r\n",
    "artists = '../data/artists.csv'\r\n",
    "artists_df = pd.read_csv(artists)\r\n",
    "artists_df.tail()"
   ]
  },
  {
   "cell_type": "code",
   "execution_count": 3,
   "metadata": {},
   "outputs": [
    {
     "data": {
      "text/html": "<div>\n<style scoped>\n    .dataframe tbody tr th:only-of-type {\n        vertical-align: middle;\n    }\n\n    .dataframe tbody tr th {\n        vertical-align: top;\n    }\n\n    .dataframe thead th {\n        text-align: right;\n    }\n</style>\n<table border=\"1\" class=\"dataframe\">\n  <thead>\n    <tr style=\"text-align: right;\">\n      <th></th>\n      <th>id</th>\n      <th>followers</th>\n      <th>genres</th>\n      <th>name</th>\n      <th>popularity</th>\n    </tr>\n  </thead>\n  <tbody>\n    <tr>\n      <th>144138</th>\n      <td>6eUKZXaKkcviH0Ku9w2n3V</td>\n      <td>78900234.0</td>\n      <td>['pop', 'uk pop']</td>\n      <td>Ed Sheeran</td>\n      <td>92</td>\n    </tr>\n    <tr>\n      <th>144485</th>\n      <td>66CXWjxzNUsdJxJ2JdwvnR</td>\n      <td>61301006.0</td>\n      <td>['pop', 'post-teen pop']</td>\n      <td>Ariana Grande</td>\n      <td>95</td>\n    </tr>\n    <tr>\n      <th>313676</th>\n      <td>3TVXtAsR1Inumwj472S9r4</td>\n      <td>54416812.0</td>\n      <td>['canadian hip hop', 'canadian pop', 'hip hop'...</td>\n      <td>Drake</td>\n      <td>98</td>\n    </tr>\n    <tr>\n      <th>144481</th>\n      <td>1uNFoZAHBGtllmzznpCI3s</td>\n      <td>44606973.0</td>\n      <td>['canadian pop', 'pop', 'post-teen pop']</td>\n      <td>Justin Bieber</td>\n      <td>100</td>\n    </tr>\n    <tr>\n      <th>144488</th>\n      <td>7dGJo4pcD2V6oG8kP0tJRR</td>\n      <td>43747833.0</td>\n      <td>['detroit hip hop', 'hip hop', 'rap']</td>\n      <td>Eminem</td>\n      <td>94</td>\n    </tr>\n  </tbody>\n</table>\n</div>",
      "text/plain": "                            id   followers  \\\n144138  6eUKZXaKkcviH0Ku9w2n3V  78900234.0   \n144485  66CXWjxzNUsdJxJ2JdwvnR  61301006.0   \n313676  3TVXtAsR1Inumwj472S9r4  54416812.0   \n144481  1uNFoZAHBGtllmzznpCI3s  44606973.0   \n144488  7dGJo4pcD2V6oG8kP0tJRR  43747833.0   \n\n                                                   genres           name  \\\n144138                                  ['pop', 'uk pop']     Ed Sheeran   \n144485                           ['pop', 'post-teen pop']  Ariana Grande   \n313676  ['canadian hip hop', 'canadian pop', 'hip hop'...          Drake   \n144481           ['canadian pop', 'pop', 'post-teen pop']  Justin Bieber   \n144488              ['detroit hip hop', 'hip hop', 'rap']         Eminem   \n\n        popularity  \n144138          92  \n144485          95  \n313676          98  \n144481         100  \n144488          94  "
     },
     "execution_count": 3,
     "metadata": {},
     "output_type": "execute_result"
    }
   ],
   "source": [
    "# reorganize data from most followers to least\r\n",
    "artists_df.sort_values(by=['followers'],inplace = True, ascending = False)\r\n",
    "artists_df.head()"
   ]
  },
  {
   "cell_type": "code",
   "execution_count": 4,
   "metadata": {},
   "outputs": [
    {
     "data": {
      "text/html": "<div>\n<style scoped>\n    .dataframe tbody tr th:only-of-type {\n        vertical-align: middle;\n    }\n\n    .dataframe tbody tr th {\n        vertical-align: top;\n    }\n\n    .dataframe thead th {\n        text-align: right;\n    }\n</style>\n<table border=\"1\" class=\"dataframe\">\n  <thead>\n    <tr style=\"text-align: right;\">\n      <th></th>\n      <th>name</th>\n      <th>genres</th>\n      <th>followers</th>\n      <th>popularity</th>\n    </tr>\n  </thead>\n  <tbody>\n    <tr>\n      <th>144138</th>\n      <td>Ed Sheeran</td>\n      <td>['pop', 'uk pop']</td>\n      <td>78900234.0</td>\n      <td>92</td>\n    </tr>\n    <tr>\n      <th>144485</th>\n      <td>Ariana Grande</td>\n      <td>['pop', 'post-teen pop']</td>\n      <td>61301006.0</td>\n      <td>95</td>\n    </tr>\n    <tr>\n      <th>313676</th>\n      <td>Drake</td>\n      <td>['canadian hip hop', 'canadian pop', 'hip hop'...</td>\n      <td>54416812.0</td>\n      <td>98</td>\n    </tr>\n    <tr>\n      <th>144481</th>\n      <td>Justin Bieber</td>\n      <td>['canadian pop', 'pop', 'post-teen pop']</td>\n      <td>44606973.0</td>\n      <td>100</td>\n    </tr>\n    <tr>\n      <th>144488</th>\n      <td>Eminem</td>\n      <td>['detroit hip hop', 'hip hop', 'rap']</td>\n      <td>43747833.0</td>\n      <td>94</td>\n    </tr>\n  </tbody>\n</table>\n</div>",
      "text/plain": "                 name                                             genres  \\\n144138     Ed Sheeran                                  ['pop', 'uk pop']   \n144485  Ariana Grande                           ['pop', 'post-teen pop']   \n313676          Drake  ['canadian hip hop', 'canadian pop', 'hip hop'...   \n144481  Justin Bieber           ['canadian pop', 'pop', 'post-teen pop']   \n144488         Eminem              ['detroit hip hop', 'hip hop', 'rap']   \n\n         followers  popularity  \n144138  78900234.0          92  \n144485  61301006.0          95  \n313676  54416812.0          98  \n144481  44606973.0         100  \n144488  43747833.0          94  "
     },
     "execution_count": 4,
     "metadata": {},
     "output_type": "execute_result"
    }
   ],
   "source": [
    "# take out columns not needed\r\n",
    "artists_cols = ['name','genres','followers','popularity']\r\n",
    "artists_v2 = artists_df[artists_cols].copy()\r\n",
    "\r\n",
    "artists_v2.head()"
   ]
  },
  {
   "cell_type": "code",
   "execution_count": 5,
   "metadata": {},
   "outputs": [
    {
     "data": {
      "text/html": "<div>\n<style scoped>\n    .dataframe tbody tr th:only-of-type {\n        vertical-align: middle;\n    }\n\n    .dataframe tbody tr th {\n        vertical-align: top;\n    }\n\n    .dataframe thead th {\n        text-align: right;\n    }\n</style>\n<table border=\"1\" class=\"dataframe\">\n  <thead>\n    <tr style=\"text-align: right;\">\n      <th></th>\n      <th>Artist</th>\n      <th>Genre</th>\n      <th>Followers</th>\n      <th>Popularity Lvl</th>\n    </tr>\n  </thead>\n  <tbody>\n    <tr>\n      <th>144138</th>\n      <td>Ed Sheeran</td>\n      <td>['pop', 'uk pop']</td>\n      <td>78900234.0</td>\n      <td>92</td>\n    </tr>\n    <tr>\n      <th>144485</th>\n      <td>Ariana Grande</td>\n      <td>['pop', 'post-teen pop']</td>\n      <td>61301006.0</td>\n      <td>95</td>\n    </tr>\n    <tr>\n      <th>313676</th>\n      <td>Drake</td>\n      <td>['canadian hip hop', 'canadian pop', 'hip hop'...</td>\n      <td>54416812.0</td>\n      <td>98</td>\n    </tr>\n    <tr>\n      <th>144481</th>\n      <td>Justin Bieber</td>\n      <td>['canadian pop', 'pop', 'post-teen pop']</td>\n      <td>44606973.0</td>\n      <td>100</td>\n    </tr>\n    <tr>\n      <th>144488</th>\n      <td>Eminem</td>\n      <td>['detroit hip hop', 'hip hop', 'rap']</td>\n      <td>43747833.0</td>\n      <td>94</td>\n    </tr>\n    <tr>\n      <th>313508</th>\n      <td>Rihanna</td>\n      <td>['barbadian pop', 'dance pop', 'pop', 'post-te...</td>\n      <td>42244011.0</td>\n      <td>92</td>\n    </tr>\n    <tr>\n      <th>126658</th>\n      <td>Billie Eilish</td>\n      <td>['electropop', 'pop']</td>\n      <td>41792604.0</td>\n      <td>92</td>\n    </tr>\n    <tr>\n      <th>126338</th>\n      <td>Taylor Swift</td>\n      <td>['pop', 'post-teen pop']</td>\n      <td>38869193.0</td>\n      <td>98</td>\n    </tr>\n    <tr>\n      <th>126339</th>\n      <td>Imagine Dragons</td>\n      <td>['modern rock', 'rock']</td>\n      <td>33665795.0</td>\n      <td>89</td>\n    </tr>\n    <tr>\n      <th>144496</th>\n      <td>Queen</td>\n      <td>['classic rock', 'glam rock', 'rock']</td>\n      <td>33483326.0</td>\n      <td>89</td>\n    </tr>\n  </tbody>\n</table>\n</div>",
      "text/plain": "                 Artist                                              Genre  \\\n144138       Ed Sheeran                                  ['pop', 'uk pop']   \n144485    Ariana Grande                           ['pop', 'post-teen pop']   \n313676            Drake  ['canadian hip hop', 'canadian pop', 'hip hop'...   \n144481    Justin Bieber           ['canadian pop', 'pop', 'post-teen pop']   \n144488           Eminem              ['detroit hip hop', 'hip hop', 'rap']   \n313508          Rihanna  ['barbadian pop', 'dance pop', 'pop', 'post-te...   \n126658    Billie Eilish                              ['electropop', 'pop']   \n126338     Taylor Swift                           ['pop', 'post-teen pop']   \n126339  Imagine Dragons                            ['modern rock', 'rock']   \n144496            Queen              ['classic rock', 'glam rock', 'rock']   \n\n         Followers  Popularity Lvl  \n144138  78900234.0              92  \n144485  61301006.0              95  \n313676  54416812.0              98  \n144481  44606973.0             100  \n144488  43747833.0              94  \n313508  42244011.0              92  \n126658  41792604.0              92  \n126338  38869193.0              98  \n126339  33665795.0              89  \n144496  33483326.0              89  "
     },
     "execution_count": 5,
     "metadata": {},
     "output_type": "execute_result"
    }
   ],
   "source": [
    "#rename columns\r\n",
    "artists_renamed = artists_v2.rename(columns ={\r\n",
    "\r\n",
    "'name': 'Artist',\r\n",
    "'genres': 'Genre',\r\n",
    "'followers': 'Followers',\r\n",
    "'popularity':'Popularity Lvl'})\r\n",
    "\r\n",
    "artists_renamed.head(10)"
   ]
  },
  {
   "cell_type": "code",
   "execution_count": 6,
   "metadata": {},
   "outputs": [
    {
     "data": {
      "text/html": "<div>\n<style scoped>\n    .dataframe tbody tr th:only-of-type {\n        vertical-align: middle;\n    }\n\n    .dataframe tbody tr th {\n        vertical-align: top;\n    }\n\n    .dataframe thead th {\n        text-align: right;\n    }\n</style>\n<table border=\"1\" class=\"dataframe\">\n  <thead>\n    <tr style=\"text-align: right;\">\n      <th></th>\n      <th>index</th>\n      <th>Artist</th>\n      <th>Genre</th>\n      <th>Followers</th>\n      <th>Popularity Lvl</th>\n    </tr>\n  </thead>\n  <tbody>\n    <tr>\n      <th>0</th>\n      <td>144138</td>\n      <td>Ed Sheeran</td>\n      <td>['pop', 'uk pop']</td>\n      <td>78900234.0</td>\n      <td>92</td>\n    </tr>\n    <tr>\n      <th>1</th>\n      <td>144485</td>\n      <td>Ariana Grande</td>\n      <td>['pop', 'post-teen pop']</td>\n      <td>61301006.0</td>\n      <td>95</td>\n    </tr>\n    <tr>\n      <th>2</th>\n      <td>313676</td>\n      <td>Drake</td>\n      <td>['canadian hip hop', 'canadian pop', 'hip hop'...</td>\n      <td>54416812.0</td>\n      <td>98</td>\n    </tr>\n    <tr>\n      <th>3</th>\n      <td>144481</td>\n      <td>Justin Bieber</td>\n      <td>['canadian pop', 'pop', 'post-teen pop']</td>\n      <td>44606973.0</td>\n      <td>100</td>\n    </tr>\n    <tr>\n      <th>4</th>\n      <td>144488</td>\n      <td>Eminem</td>\n      <td>['detroit hip hop', 'hip hop', 'rap']</td>\n      <td>43747833.0</td>\n      <td>94</td>\n    </tr>\n  </tbody>\n</table>\n</div>",
      "text/plain": "    index         Artist                                              Genre  \\\n0  144138     Ed Sheeran                                  ['pop', 'uk pop']   \n1  144485  Ariana Grande                           ['pop', 'post-teen pop']   \n2  313676          Drake  ['canadian hip hop', 'canadian pop', 'hip hop'...   \n3  144481  Justin Bieber           ['canadian pop', 'pop', 'post-teen pop']   \n4  144488         Eminem              ['detroit hip hop', 'hip hop', 'rap']   \n\n    Followers  Popularity Lvl  \n0  78900234.0              92  \n1  61301006.0              95  \n2  54416812.0              98  \n3  44606973.0             100  \n4  43747833.0              94  "
     },
     "execution_count": 6,
     "metadata": {},
     "output_type": "execute_result"
    }
   ],
   "source": [
    "artists_reset = artists_renamed.reset_index()\r\n",
    "artists_reset.head()"
   ]
  },
  {
   "cell_type": "code",
   "execution_count": 7,
   "metadata": {},
   "outputs": [
    {
     "data": {
      "text/html": "<div>\n<style scoped>\n    .dataframe tbody tr th:only-of-type {\n        vertical-align: middle;\n    }\n\n    .dataframe tbody tr th {\n        vertical-align: top;\n    }\n\n    .dataframe thead th {\n        text-align: right;\n    }\n</style>\n<table border=\"1\" class=\"dataframe\">\n  <thead>\n    <tr style=\"text-align: right;\">\n      <th></th>\n      <th>id</th>\n      <th>Artist</th>\n      <th>Genre</th>\n      <th>Followers</th>\n      <th>Popularity Lvl</th>\n    </tr>\n  </thead>\n  <tbody>\n    <tr>\n      <th>0</th>\n      <td>144138</td>\n      <td>Ed Sheeran</td>\n      <td>['pop', 'uk pop']</td>\n      <td>78900234.0</td>\n      <td>92</td>\n    </tr>\n    <tr>\n      <th>1</th>\n      <td>144485</td>\n      <td>Ariana Grande</td>\n      <td>['pop', 'post-teen pop']</td>\n      <td>61301006.0</td>\n      <td>95</td>\n    </tr>\n    <tr>\n      <th>2</th>\n      <td>313676</td>\n      <td>Drake</td>\n      <td>['canadian hip hop', 'canadian pop', 'hip hop'...</td>\n      <td>54416812.0</td>\n      <td>98</td>\n    </tr>\n    <tr>\n      <th>3</th>\n      <td>144481</td>\n      <td>Justin Bieber</td>\n      <td>['canadian pop', 'pop', 'post-teen pop']</td>\n      <td>44606973.0</td>\n      <td>100</td>\n    </tr>\n    <tr>\n      <th>4</th>\n      <td>144488</td>\n      <td>Eminem</td>\n      <td>['detroit hip hop', 'hip hop', 'rap']</td>\n      <td>43747833.0</td>\n      <td>94</td>\n    </tr>\n    <tr>\n      <th>5</th>\n      <td>313508</td>\n      <td>Rihanna</td>\n      <td>['barbadian pop', 'dance pop', 'pop', 'post-te...</td>\n      <td>42244011.0</td>\n      <td>92</td>\n    </tr>\n    <tr>\n      <th>6</th>\n      <td>126658</td>\n      <td>Billie Eilish</td>\n      <td>['electropop', 'pop']</td>\n      <td>41792604.0</td>\n      <td>92</td>\n    </tr>\n    <tr>\n      <th>7</th>\n      <td>126338</td>\n      <td>Taylor Swift</td>\n      <td>['pop', 'post-teen pop']</td>\n      <td>38869193.0</td>\n      <td>98</td>\n    </tr>\n    <tr>\n      <th>8</th>\n      <td>126339</td>\n      <td>Imagine Dragons</td>\n      <td>['modern rock', 'rock']</td>\n      <td>33665795.0</td>\n      <td>89</td>\n    </tr>\n    <tr>\n      <th>9</th>\n      <td>144496</td>\n      <td>Queen</td>\n      <td>['classic rock', 'glam rock', 'rock']</td>\n      <td>33483326.0</td>\n      <td>89</td>\n    </tr>\n  </tbody>\n</table>\n</div>",
      "text/plain": "       id           Artist                                              Genre  \\\n0  144138       Ed Sheeran                                  ['pop', 'uk pop']   \n1  144485    Ariana Grande                           ['pop', 'post-teen pop']   \n2  313676            Drake  ['canadian hip hop', 'canadian pop', 'hip hop'...   \n3  144481    Justin Bieber           ['canadian pop', 'pop', 'post-teen pop']   \n4  144488           Eminem              ['detroit hip hop', 'hip hop', 'rap']   \n5  313508          Rihanna  ['barbadian pop', 'dance pop', 'pop', 'post-te...   \n6  126658    Billie Eilish                              ['electropop', 'pop']   \n7  126338     Taylor Swift                           ['pop', 'post-teen pop']   \n8  126339  Imagine Dragons                            ['modern rock', 'rock']   \n9  144496            Queen              ['classic rock', 'glam rock', 'rock']   \n\n    Followers  Popularity Lvl  \n0  78900234.0              92  \n1  61301006.0              95  \n2  54416812.0              98  \n3  44606973.0             100  \n4  43747833.0              94  \n5  42244011.0              92  \n6  41792604.0              92  \n7  38869193.0              98  \n8  33665795.0              89  \n9  33483326.0              89  "
     },
     "execution_count": 7,
     "metadata": {},
     "output_type": "execute_result"
    }
   ],
   "source": [
    "artists_final = artists_reset.rename(columns={\"index\":'id'})\r\n",
    "\r\n",
    "artists_final.head(10)"
   ]
  },
  {
   "cell_type": "code",
   "execution_count": 7,
   "metadata": {},
   "outputs": [
    {
     "output_type": "error",
     "ename": "NameError",
     "evalue": "name 'artists_final' is not defined",
     "traceback": [
      "\u001b[1;31m---------------------------------------------------------------------------\u001b[0m",
      "\u001b[1;31mNameError\u001b[0m                                 Traceback (most recent call last)",
      "\u001b[1;32m<ipython-input-7-9edc0bc91d1a>\u001b[0m in \u001b[0;36m<module>\u001b[1;34m()\u001b[0m\n\u001b[1;32m----> 1\u001b[1;33m \u001b[0martists_final\u001b[0m\u001b[1;33m.\u001b[0m\u001b[0mto_sql\u001b[0m\u001b[1;33m(\u001b[0m\u001b[1;34m\"spotify\"\u001b[0m\u001b[1;33m,\u001b[0m\u001b[0mconn\u001b[0m\u001b[1;33m)\u001b[0m\u001b[1;33m\u001b[0m\u001b[1;33m\u001b[0m\u001b[0m\n\u001b[0m",
      "\u001b[1;31mNameError\u001b[0m: name 'artists_final' is not defined"
     ]
    }
   ],
   "source": [
    "artists_final.to_sql(\"spotify\",conn)"
   ]
  },
  {
   "cell_type": "code",
   "execution_count": null,
   "metadata": {},
   "outputs": [],
   "source": []
  }
 ],
 "metadata": {
  "kernelspec": {
   "name": "python3610jvsc74a57bd0cf9431fb2f18f4d265e2a8e10d39873690f69d776f1f69bbc20b04b1aea95adf",
   "display_name": "Python 3.6.10 64-bit ('DataBootCamp': conda)"
  },
  "language_info": {
   "codemirror_mode": {
    "name": "ipython",
    "version": 3
   },
   "file_extension": ".py",
   "mimetype": "text/x-python",
   "name": "python",
   "nbconvert_exporter": "python",
   "pygments_lexer": "ipython3",
   "version": "3.6.10"
  },
  "orig_nbformat": 2
 },
 "nbformat": 4,
 "nbformat_minor": 2
}